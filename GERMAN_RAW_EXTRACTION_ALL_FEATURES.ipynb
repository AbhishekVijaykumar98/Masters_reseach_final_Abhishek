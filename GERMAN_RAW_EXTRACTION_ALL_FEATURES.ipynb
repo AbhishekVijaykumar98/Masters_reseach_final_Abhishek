{
 "cells": [
  {
   "cell_type": "markdown",
   "metadata": {},
   "source": [
    "# READ RAW DATA "
   ]
  },
  {
   "cell_type": "code",
   "execution_count": 1,
   "metadata": {},
   "outputs": [],
   "source": [
    "%matplotlib inline\n",
    "\n",
    "import pandas as pd\n",
    "import seaborn as sns\n",
    "import pylab\n",
    "import numpy as np\n",
    "import sklearn\n",
    "from sklearn import linear_model\n",
    "import sklearn.preprocessing as preprocessing\n",
    "import sklearn.metrics as metrics\n",
    "import matplotlib.pyplot as plt\n",
    "from statsmodels.stats import proportion\n",
    "\n",
    "import pandas as pd\n",
    "from sklearn.datasets import fetch_openml\n",
    "from sklearn.metrics import accuracy_score, precision_score, recall_score\n",
    "from sklearn.tree import DecisionTreeClassifier\n",
    "\n",
    "\n",
    "from sklearn.metrics import balanced_accuracy_score, roc_auc_score,accuracy_score\n",
    "\n",
    "import warnings\n",
    "warnings.filterwarnings('ignore')"
   ]
  },
  {
   "cell_type": "code",
   "execution_count": 2,
   "metadata": {},
   "outputs": [
    {
     "data": {
      "text/plain": [
       "('german.data', <http.client.HTTPMessage at 0x7ff17a89d580>)"
      ]
     },
     "execution_count": 2,
     "metadata": {},
     "output_type": "execute_result"
    }
   ],
   "source": [
    "from urllib.request import urlretrieve\n",
    "urlretrieve('http://archive.ics.uci.edu/ml/machine-learning-databases/statlog/german/german.data', 'german.data')"
   ]
  },
  {
   "cell_type": "code",
   "execution_count": 3,
   "metadata": {},
   "outputs": [],
   "source": [
    "german_df = pd.read_csv('german.data', \n",
    "                        delimiter=' ',header=None)"
   ]
  },
  {
   "cell_type": "code",
   "execution_count": 4,
   "metadata": {},
   "outputs": [
    {
     "name": "stdout",
     "output_type": "stream",
     "text": [
      "<class 'pandas.core.frame.DataFrame'>\n",
      "RangeIndex: 1000 entries, 0 to 999\n",
      "Data columns (total 21 columns):\n",
      " #   Column  Non-Null Count  Dtype \n",
      "---  ------  --------------  ----- \n",
      " 0   0       1000 non-null   object\n",
      " 1   1       1000 non-null   int64 \n",
      " 2   2       1000 non-null   object\n",
      " 3   3       1000 non-null   object\n",
      " 4   4       1000 non-null   int64 \n",
      " 5   5       1000 non-null   object\n",
      " 6   6       1000 non-null   object\n",
      " 7   7       1000 non-null   int64 \n",
      " 8   8       1000 non-null   object\n",
      " 9   9       1000 non-null   object\n",
      " 10  10      1000 non-null   int64 \n",
      " 11  11      1000 non-null   object\n",
      " 12  12      1000 non-null   int64 \n",
      " 13  13      1000 non-null   object\n",
      " 14  14      1000 non-null   object\n",
      " 15  15      1000 non-null   int64 \n",
      " 16  16      1000 non-null   object\n",
      " 17  17      1000 non-null   int64 \n",
      " 18  18      1000 non-null   object\n",
      " 19  19      1000 non-null   object\n",
      " 20  20      1000 non-null   int64 \n",
      "dtypes: int64(8), object(13)\n",
      "memory usage: 164.2+ KB\n"
     ]
    }
   ],
   "source": [
    "german_df.info()"
   ]
  },
  {
   "cell_type": "markdown",
   "metadata": {},
   "source": [
    "## Online description of what everything means & how to recode it"
   ]
  },
  {
   "cell_type": "code",
   "execution_count": 5,
   "metadata": {},
   "outputs": [
    {
     "name": "stdout",
     "output_type": "stream",
     "text": [
      "Description of the German credit dataset.\n",
      "\n",
      "1. Title: German Credit data\n",
      "\n",
      "2. Source Information\n",
      "\n",
      "Professor Dr. Hans Hofmann  \n",
      "Institut f\"ur Statistik und \"Okonometrie  \n",
      "Universit\"at Hamburg  \n",
      "FB Wirtschaftswissenschaften  \n",
      "Von-Melle-Park 5    \n",
      "2000 Hamburg 13 \n",
      "\n",
      "3. Number of Instances:  1000\n",
      "\n",
      "Two datasets are provided.  the original dataset, in the form provided\n",
      "by Prof. Hofmann, contains categorical/symbolic attributes and\n",
      "is in the file \"german.data\".   \n",
      " \n",
      "For algorithms that need numerical attributes, Strathclyde University \n",
      "produced the file \"german.data-numeric\".  This file has been edited \n",
      "and several indicator variables added to make it suitable for \n",
      "algorithms which cannot cope with categorical variables.   Several\n",
      "attributes that are ordered categorical (such as attribute 17) have\n",
      "been coded as integer.    This was the form used by StatLog.\n",
      "\n",
      "\n",
      "6. Number of Attributes german: 20 (7 numerical, 13 categorical)\n",
      "   Number of Attributes german.numer: 24 (24 numerical)\n",
      "\n",
      "\n",
      "7.  Attribute description for german\n",
      "\n",
      "Attribute 1:  (qualitative)\n",
      "\t       Status of existing checking account\n",
      "               A11 :      ... <    0 DM\n",
      "\t       A12 : 0 <= ... <  200 DM\n",
      "\t       A13 :      ... >= 200 DM /\n",
      "\t\t     salary assignments for at least 1 year\n",
      "               A14 : no checking account\n",
      "\n",
      "Attribute 2:  (numerical)\n",
      "\t      Duration in month\n",
      "\n",
      "Attribute 3:  (qualitative)\n",
      "\t      Credit history\n",
      "\t      A30 : no credits taken/\n",
      "\t\t    all credits paid back duly\n",
      "              A31 : all credits at this bank paid back duly\n",
      "\t      A32 : existing credits paid back duly till now\n",
      "              A33 : delay in paying off in the past\n",
      "\t      A34 : critical account/\n",
      "\t\t    other credits existing (not at this bank)\n",
      "\n",
      "Attribute 4:  (qualitative)\n",
      "\t      Purpose\n",
      "\t      A40 : car (new)\n",
      "\t      A41 : car (used)\n",
      "\t      A42 : furniture/equipment\n",
      "\t      A43 : radio/television\n",
      "\t      A44 : domestic appliances\n",
      "\t      A45 : repairs\n",
      "\t      A46 : education\n",
      "\t      A47 : (vacation - does not exist?)\n",
      "\t      A48 : retraining\n",
      "\t      A49 : business\n",
      "\t      A410 : others\n",
      "\n",
      "Attribute 5:  (numerical)\n",
      "\t      Credit amount\n",
      "\n",
      "Attibute 6:  (qualitative)\n",
      "\t      Savings account/bonds\n",
      "\t      A61 :          ... <  100 DM\n",
      "\t      A62 :   100 <= ... <  500 DM\n",
      "\t      A63 :   500 <= ... < 1000 DM\n",
      "\t      A64 :          .. >= 1000 DM\n",
      "              A65 :   unknown/ no savings account\n",
      "\n",
      "Attribute 7:  (qualitative)\n",
      "\t      Present employment since\n",
      "\t      A71 : unemployed\n",
      "\t      A72 :       ... < 1 year\n",
      "\t      A73 : 1  <= ... < 4 years  \n",
      "\t      A74 : 4  <= ... < 7 years\n",
      "\t      A75 :       .. >= 7 years\n",
      "\n",
      "Attribute 8:  (numerical)\n",
      "\t      Installment rate in percentage of disposable income\n",
      "\n",
      "Attribute 9:  (qualitative)\n",
      "\t      Personal status and sex\n",
      "\t      A91 : male   : divorced/separated\n",
      "\t      A92 : female : divorced/separated/married\n",
      "              A93 : male   : single\n",
      "\t      A94 : male   : married/widowed\n",
      "\t      A95 : female : single\n",
      "\n",
      "Attribute 10: (qualitative)\n",
      "\t      Other debtors / guarantors\n",
      "\t      A101 : none\n",
      "\t      A102 : co-applicant\n",
      "\t      A103 : guarantor\n",
      "\n",
      "Attribute 11: (numerical)\n",
      "\t      Present residence since\n",
      "\n",
      "Attribute 12: (qualitative)\n",
      "\t      Property\n",
      "\t      A121 : real estate\n",
      "\t      A122 : if not A121 : building society savings agreement/\n",
      "\t\t\t\t   life insurance\n",
      "              A123 : if not A121/A122 : car or other, not in attribute 6\n",
      "\t      A124 : unknown / no property\n",
      "\n",
      "Attribute 13: (numerical)\n",
      "\t      Age in years\n",
      "\n",
      "Attribute 14: (qualitative)\n",
      "\t      Other installment plans \n",
      "\t      A141 : bank\n",
      "\t      A142 : stores\n",
      "\t      A143 : none\n",
      "\n",
      "Attribute 15: (qualitative)\n",
      "\t      Housing\n",
      "\t      A151 : rent\n",
      "\t      A152 : own\n",
      "\t      A153 : for free\n",
      "\n",
      "Attribute 16: (numerical)\n",
      "              Number of existing credits at this bank\n",
      "\n",
      "Attribute 17: (qualitative)\n",
      "\t      Job\n",
      "\t      A171 : unemployed/ unskilled  - non-resident\n",
      "\t      A172 : unskilled - resident\n",
      "\t      A173 : skilled employee / official\n",
      "\t      A174 : management/ self-employed/\n",
      "\t\t     highly qualified employee/ officer\n",
      "\n",
      "Attribute 18: (numerical)\n",
      "\t      Number of people being liable to provide maintenance for\n",
      "\n",
      "Attribute 19: (qualitative)\n",
      "\t      Telephone\n",
      "\t      A191 : none\n",
      "\t      A192 : yes, registered under the customers name\n",
      "\n",
      "Attribute 20: (qualitative)\n",
      "\t      foreign worker\n",
      "\t      A201 : yes\n",
      "\t      A202 : no\n",
      "\n",
      "\n",
      "\n",
      "8.  Cost Matrix\n",
      "\n",
      "This dataset requires use of a cost matrix (see below)\n",
      "\n",
      "\n",
      "      1        2\n",
      "----------------------------\n",
      "  1   0        1\n",
      "-----------------------\n",
      "  2   5        0\n",
      "\n",
      "(1 = Good,  2 = Bad)\n",
      "\n",
      "the rows represent the actual classification and the columns\n",
      "the predicted classification.\n",
      "\n",
      "It is worse to class a customer as good when they are bad (5), \n",
      "than it is to class a customer as bad when they are good (1).\n",
      "\n",
      "\n"
     ]
    }
   ],
   "source": [
    "urlretrieve('http://archive.ics.uci.edu/ml/machine-learning-databases/statlog/german/german.doc', 'german.doc')\n",
    "f = open('german.doc')\n",
    "german_doc= f.read()\n",
    "print(german_doc)"
   ]
  },
  {
   "cell_type": "code",
   "execution_count": 6,
   "metadata": {},
   "outputs": [],
   "source": [
    "# rename columns \n",
    "german_df.columns=['account_bal','duration','payment_status','purpose',\n",
    "                   'credit_amount','savings_bond_value','employed_since',\n",
    "                   'intallment_rate','sex_marital','guarantor','residence_since',\n",
    "                   'most_valuable_asset','age','concurrent_credits','type_of_housing',\n",
    "                   'number_of_existcr','job','number_of_dependents','telephon',\n",
    "                   'foreign','target']"
   ]
  },
  {
   "cell_type": "code",
   "execution_count": 7,
   "metadata": {},
   "outputs": [],
   "source": [
    "# find and replace particular values\n",
    "german_df= german_df.replace(['A11','A12','A13','A14', 'A171','A172','A173','A174','A121','A122','A123','A124'],\n",
    "                  ['neg_bal','positive_bal','positive_bal','no_acc','unskilled','unskilled','skilled','highly_skilled',\n",
    "                   'none','car','life_insurance','real_estate'])"
   ]
  },
  {
   "cell_type": "code",
   "execution_count": 8,
   "metadata": {},
   "outputs": [],
   "source": [
    "# separate out sex & marital status\n",
    "german_df[\"sex\"] = german_df[\"sex_marital\"]\n",
    "german_df[\"sex\"] = german_df[\"sex\"].map({ \"A91\":\"Male\", \n",
    "                      \"A93\":\"Male\",\n",
    "                      \"A94\":\"Male\",\n",
    "                      \"A92\":\"Female\",\n",
    "                      \"A95\":\"Female\"\n",
    "                     })"
   ]
  },
  {
   "cell_type": "code",
   "execution_count": 9,
   "metadata": {},
   "outputs": [],
   "source": [
    "german_df.rename(columns={\"sex_marital\": 'marital', 'oldName2': 'newName2'}, inplace=True)\n",
    "# german_df[\"marital\"] = german_df[\"marital\"].map({ \"A91\" : \"divorced/separated\",\n",
    "#                                                  \"A92\" : \"divorced/separated/married\",\n",
    "#                                                  \"A93\" : \"single\",\n",
    "#                                                  \"A94\" : \"married/widowed\",\n",
    "#                                                  \"A95\" : \"single\"\n",
    "#                                                 })\n",
    "german_df[\"marital\"] = german_df[\"marital\"].map({ \"A91\" : \"not_single\",\n",
    "                                                 \"A92\" : \"not_single\",\n",
    "                                                 \"A93\" : \"single\",\n",
    "                                                 \"A94\" : \"not_single\",\n",
    "                                                 \"A95\" : \"single\"\n",
    "                                                })\n"
   ]
  },
  {
   "cell_type": "code",
   "execution_count": 10,
   "metadata": {},
   "outputs": [
    {
     "data": {
      "text/html": [
       "<div>\n",
       "<style scoped>\n",
       "    .dataframe tbody tr th:only-of-type {\n",
       "        vertical-align: middle;\n",
       "    }\n",
       "\n",
       "    .dataframe tbody tr th {\n",
       "        vertical-align: top;\n",
       "    }\n",
       "\n",
       "    .dataframe thead th {\n",
       "        text-align: right;\n",
       "    }\n",
       "</style>\n",
       "<table border=\"1\" class=\"dataframe\">\n",
       "  <thead>\n",
       "    <tr style=\"text-align: right;\">\n",
       "      <th></th>\n",
       "      <th>account_bal</th>\n",
       "      <th>duration</th>\n",
       "      <th>payment_status</th>\n",
       "      <th>purpose</th>\n",
       "      <th>credit_amount</th>\n",
       "      <th>savings_bond_value</th>\n",
       "      <th>employed_since</th>\n",
       "      <th>intallment_rate</th>\n",
       "      <th>marital</th>\n",
       "      <th>guarantor</th>\n",
       "      <th>...</th>\n",
       "      <th>age</th>\n",
       "      <th>concurrent_credits</th>\n",
       "      <th>type_of_housing</th>\n",
       "      <th>number_of_existcr</th>\n",
       "      <th>job</th>\n",
       "      <th>number_of_dependents</th>\n",
       "      <th>telephon</th>\n",
       "      <th>foreign</th>\n",
       "      <th>target</th>\n",
       "      <th>sex</th>\n",
       "    </tr>\n",
       "  </thead>\n",
       "  <tbody>\n",
       "    <tr>\n",
       "      <th>0</th>\n",
       "      <td>neg_bal</td>\n",
       "      <td>6</td>\n",
       "      <td>A34</td>\n",
       "      <td>A43</td>\n",
       "      <td>1169</td>\n",
       "      <td>A65</td>\n",
       "      <td>A75</td>\n",
       "      <td>4</td>\n",
       "      <td>single</td>\n",
       "      <td>A101</td>\n",
       "      <td>...</td>\n",
       "      <td>67</td>\n",
       "      <td>A143</td>\n",
       "      <td>A152</td>\n",
       "      <td>2</td>\n",
       "      <td>skilled</td>\n",
       "      <td>1</td>\n",
       "      <td>A192</td>\n",
       "      <td>A201</td>\n",
       "      <td>1</td>\n",
       "      <td>Male</td>\n",
       "    </tr>\n",
       "    <tr>\n",
       "      <th>1</th>\n",
       "      <td>positive_bal</td>\n",
       "      <td>48</td>\n",
       "      <td>A32</td>\n",
       "      <td>A43</td>\n",
       "      <td>5951</td>\n",
       "      <td>A61</td>\n",
       "      <td>A73</td>\n",
       "      <td>2</td>\n",
       "      <td>not_single</td>\n",
       "      <td>A101</td>\n",
       "      <td>...</td>\n",
       "      <td>22</td>\n",
       "      <td>A143</td>\n",
       "      <td>A152</td>\n",
       "      <td>1</td>\n",
       "      <td>skilled</td>\n",
       "      <td>1</td>\n",
       "      <td>A191</td>\n",
       "      <td>A201</td>\n",
       "      <td>2</td>\n",
       "      <td>Female</td>\n",
       "    </tr>\n",
       "    <tr>\n",
       "      <th>2</th>\n",
       "      <td>no_acc</td>\n",
       "      <td>12</td>\n",
       "      <td>A34</td>\n",
       "      <td>A46</td>\n",
       "      <td>2096</td>\n",
       "      <td>A61</td>\n",
       "      <td>A74</td>\n",
       "      <td>2</td>\n",
       "      <td>single</td>\n",
       "      <td>A101</td>\n",
       "      <td>...</td>\n",
       "      <td>49</td>\n",
       "      <td>A143</td>\n",
       "      <td>A152</td>\n",
       "      <td>1</td>\n",
       "      <td>unskilled</td>\n",
       "      <td>2</td>\n",
       "      <td>A191</td>\n",
       "      <td>A201</td>\n",
       "      <td>1</td>\n",
       "      <td>Male</td>\n",
       "    </tr>\n",
       "    <tr>\n",
       "      <th>3</th>\n",
       "      <td>neg_bal</td>\n",
       "      <td>42</td>\n",
       "      <td>A32</td>\n",
       "      <td>A42</td>\n",
       "      <td>7882</td>\n",
       "      <td>A61</td>\n",
       "      <td>A74</td>\n",
       "      <td>2</td>\n",
       "      <td>single</td>\n",
       "      <td>A103</td>\n",
       "      <td>...</td>\n",
       "      <td>45</td>\n",
       "      <td>A143</td>\n",
       "      <td>A153</td>\n",
       "      <td>1</td>\n",
       "      <td>skilled</td>\n",
       "      <td>2</td>\n",
       "      <td>A191</td>\n",
       "      <td>A201</td>\n",
       "      <td>1</td>\n",
       "      <td>Male</td>\n",
       "    </tr>\n",
       "    <tr>\n",
       "      <th>4</th>\n",
       "      <td>neg_bal</td>\n",
       "      <td>24</td>\n",
       "      <td>A33</td>\n",
       "      <td>A40</td>\n",
       "      <td>4870</td>\n",
       "      <td>A61</td>\n",
       "      <td>A73</td>\n",
       "      <td>3</td>\n",
       "      <td>single</td>\n",
       "      <td>A101</td>\n",
       "      <td>...</td>\n",
       "      <td>53</td>\n",
       "      <td>A143</td>\n",
       "      <td>A153</td>\n",
       "      <td>2</td>\n",
       "      <td>skilled</td>\n",
       "      <td>2</td>\n",
       "      <td>A191</td>\n",
       "      <td>A201</td>\n",
       "      <td>2</td>\n",
       "      <td>Male</td>\n",
       "    </tr>\n",
       "  </tbody>\n",
       "</table>\n",
       "<p>5 rows × 22 columns</p>\n",
       "</div>"
      ],
      "text/plain": [
       "    account_bal  duration payment_status purpose  credit_amount  \\\n",
       "0       neg_bal         6            A34     A43           1169   \n",
       "1  positive_bal        48            A32     A43           5951   \n",
       "2        no_acc        12            A34     A46           2096   \n",
       "3       neg_bal        42            A32     A42           7882   \n",
       "4       neg_bal        24            A33     A40           4870   \n",
       "\n",
       "  savings_bond_value employed_since  intallment_rate     marital guarantor  \\\n",
       "0                A65            A75                4      single      A101   \n",
       "1                A61            A73                2  not_single      A101   \n",
       "2                A61            A74                2      single      A101   \n",
       "3                A61            A74                2      single      A103   \n",
       "4                A61            A73                3      single      A101   \n",
       "\n",
       "   ...  age concurrent_credits  type_of_housing number_of_existcr        job  \\\n",
       "0  ...   67               A143             A152                 2    skilled   \n",
       "1  ...   22               A143             A152                 1    skilled   \n",
       "2  ...   49               A143             A152                 1  unskilled   \n",
       "3  ...   45               A143             A153                 1    skilled   \n",
       "4  ...   53               A143             A153                 2    skilled   \n",
       "\n",
       "   number_of_dependents telephon  foreign target     sex  \n",
       "0                     1     A192     A201      1    Male  \n",
       "1                     1     A191     A201      2  Female  \n",
       "2                     2     A191     A201      1    Male  \n",
       "3                     2     A191     A201      1    Male  \n",
       "4                     2     A191     A201      2    Male  \n",
       "\n",
       "[5 rows x 22 columns]"
      ]
     },
     "execution_count": 10,
     "metadata": {},
     "output_type": "execute_result"
    }
   ],
   "source": [
    "german_df.head()"
   ]
  },
  {
   "cell_type": "code",
   "execution_count": 11,
   "metadata": {},
   "outputs": [
    {
     "data": {
      "text/plain": [
       "False"
      ]
     },
     "execution_count": 11,
     "metadata": {},
     "output_type": "execute_result"
    }
   ],
   "source": [
    "# Check for missing values in case\n",
    "german_df.isna().any().any()"
   ]
  },
  {
   "cell_type": "code",
   "execution_count": 12,
   "metadata": {},
   "outputs": [],
   "source": [
    "te = german_df.columns"
   ]
  },
  {
   "cell_type": "markdown",
   "metadata": {},
   "source": [
    "## Fix Target columns --> '0': Good Loan & '1': Bad Loan\n"
   ]
  },
  {
   "cell_type": "code",
   "execution_count": 13,
   "metadata": {},
   "outputs": [
    {
     "name": "stdout",
     "output_type": "stream",
     "text": [
      "[1 2]\n"
     ]
    }
   ],
   "source": [
    "# The target column has two values:\n",
    "# 1: represents a good loan\n",
    "# 2: represents a bad (defaulted) loan.\n",
    "print(german_df.target.unique())\n",
    "\n",
    "### FIX THE TARGET COLUMNS ###\n",
    "# The usual convention is to use '1' for bad loans and '0' for good loans. \n",
    "\n",
    "from sklearn.preprocessing import LabelEncoder\n",
    "\n",
    "labEn= LabelEncoder()\n",
    "labEn.fit(german_df.target)\n",
    "german_df.target=labEn.transform(german_df.target)\n"
   ]
  },
  {
   "cell_type": "code",
   "execution_count": 14,
   "metadata": {},
   "outputs": [
    {
     "data": {
      "image/png": "[encoded data removed]",
      "text/plain": [
       "<Figure size 432x288 with 1 Axes>"
      ]
     },
     "metadata": {},
     "output_type": "display_data"
    }
   ],
   "source": [
    "# visualize to see class imbalance\n",
    "good_bad_per=round(((german_df.target.value_counts()/german_df.target.count())*100))\n",
    "good_bad_per\n",
    "plt.pie(good_bad_per,labels=['Good loans', 'Bad loans'], autopct='%1.0f%%', startangle=90)\n",
    "plt.title('Percentage of good and bad loans');"
   ]
  },
  {
   "cell_type": "code",
   "execution_count": 15,
   "metadata": {},
   "outputs": [
    {
     "data": {
      "text/html": [
       "<div>\n",
       "<style scoped>\n",
       "    .dataframe tbody tr th:only-of-type {\n",
       "        vertical-align: middle;\n",
       "    }\n",
       "\n",
       "    .dataframe tbody tr th {\n",
       "        vertical-align: top;\n",
       "    }\n",
       "\n",
       "    .dataframe thead th {\n",
       "        text-align: right;\n",
       "    }\n",
       "</style>\n",
       "<table border=\"1\" class=\"dataframe\">\n",
       "  <thead>\n",
       "    <tr style=\"text-align: right;\">\n",
       "      <th></th>\n",
       "      <th>credit_amount</th>\n",
       "      <th>duration</th>\n",
       "      <th>age</th>\n",
       "    </tr>\n",
       "  </thead>\n",
       "  <tbody>\n",
       "    <tr>\n",
       "      <th>count</th>\n",
       "      <td>1000.000000</td>\n",
       "      <td>1000.000000</td>\n",
       "      <td>1000.000000</td>\n",
       "    </tr>\n",
       "    <tr>\n",
       "      <th>mean</th>\n",
       "      <td>3271.258000</td>\n",
       "      <td>20.903000</td>\n",
       "      <td>35.546000</td>\n",
       "    </tr>\n",
       "    <tr>\n",
       "      <th>std</th>\n",
       "      <td>2822.736876</td>\n",
       "      <td>12.058814</td>\n",
       "      <td>11.375469</td>\n",
       "    </tr>\n",
       "    <tr>\n",
       "      <th>min</th>\n",
       "      <td>250.000000</td>\n",
       "      <td>4.000000</td>\n",
       "      <td>19.000000</td>\n",
       "    </tr>\n",
       "    <tr>\n",
       "      <th>25%</th>\n",
       "      <td>1365.500000</td>\n",
       "      <td>12.000000</td>\n",
       "      <td>27.000000</td>\n",
       "    </tr>\n",
       "    <tr>\n",
       "      <th>50%</th>\n",
       "      <td>2319.500000</td>\n",
       "      <td>18.000000</td>\n",
       "      <td>33.000000</td>\n",
       "    </tr>\n",
       "    <tr>\n",
       "      <th>75%</th>\n",
       "      <td>3972.250000</td>\n",
       "      <td>24.000000</td>\n",
       "      <td>42.000000</td>\n",
       "    </tr>\n",
       "    <tr>\n",
       "      <th>max</th>\n",
       "      <td>18424.000000</td>\n",
       "      <td>72.000000</td>\n",
       "      <td>75.000000</td>\n",
       "    </tr>\n",
       "  </tbody>\n",
       "</table>\n",
       "</div>"
      ],
      "text/plain": [
       "       credit_amount     duration          age\n",
       "count    1000.000000  1000.000000  1000.000000\n",
       "mean     3271.258000    20.903000    35.546000\n",
       "std      2822.736876    12.058814    11.375469\n",
       "min       250.000000     4.000000    19.000000\n",
       "25%      1365.500000    12.000000    27.000000\n",
       "50%      2319.500000    18.000000    33.000000\n",
       "75%      3972.250000    24.000000    42.000000\n",
       "max     18424.000000    72.000000    75.000000"
      ]
     },
     "execution_count": 15,
     "metadata": {},
     "output_type": "execute_result"
    }
   ],
   "source": [
    "german_df[['credit_amount','duration','age']].describe()\n",
    "\n",
    "## credit amount is very large compared to the rest"
   ]
  },
  {
   "cell_type": "code",
   "execution_count": 16,
   "metadata": {},
   "outputs": [
    {
     "data": {
      "text/html": [
       "<div>\n",
       "<style scoped>\n",
       "    .dataframe tbody tr th:only-of-type {\n",
       "        vertical-align: middle;\n",
       "    }\n",
       "\n",
       "    .dataframe tbody tr th {\n",
       "        vertical-align: top;\n",
       "    }\n",
       "\n",
       "    .dataframe thead th {\n",
       "        text-align: right;\n",
       "    }\n",
       "</style>\n",
       "<table border=\"1\" class=\"dataframe\">\n",
       "  <thead>\n",
       "    <tr style=\"text-align: right;\">\n",
       "      <th></th>\n",
       "      <th>credit_amount</th>\n",
       "      <th>duration</th>\n",
       "      <th>age</th>\n",
       "    </tr>\n",
       "  </thead>\n",
       "  <tbody>\n",
       "    <tr>\n",
       "      <th>count</th>\n",
       "      <td>1000.000000</td>\n",
       "      <td>1000.000000</td>\n",
       "      <td>1000.000000</td>\n",
       "    </tr>\n",
       "    <tr>\n",
       "      <th>mean</th>\n",
       "      <td>7.788691</td>\n",
       "      <td>20.903000</td>\n",
       "      <td>35.546000</td>\n",
       "    </tr>\n",
       "    <tr>\n",
       "      <th>std</th>\n",
       "      <td>0.776474</td>\n",
       "      <td>12.058814</td>\n",
       "      <td>11.375469</td>\n",
       "    </tr>\n",
       "    <tr>\n",
       "      <th>min</th>\n",
       "      <td>5.521461</td>\n",
       "      <td>4.000000</td>\n",
       "      <td>19.000000</td>\n",
       "    </tr>\n",
       "    <tr>\n",
       "      <th>25%</th>\n",
       "      <td>7.219276</td>\n",
       "      <td>12.000000</td>\n",
       "      <td>27.000000</td>\n",
       "    </tr>\n",
       "    <tr>\n",
       "      <th>50%</th>\n",
       "      <td>7.749107</td>\n",
       "      <td>18.000000</td>\n",
       "      <td>33.000000</td>\n",
       "    </tr>\n",
       "    <tr>\n",
       "      <th>75%</th>\n",
       "      <td>8.287088</td>\n",
       "      <td>24.000000</td>\n",
       "      <td>42.000000</td>\n",
       "    </tr>\n",
       "    <tr>\n",
       "      <th>max</th>\n",
       "      <td>9.821409</td>\n",
       "      <td>72.000000</td>\n",
       "      <td>75.000000</td>\n",
       "    </tr>\n",
       "  </tbody>\n",
       "</table>\n",
       "</div>"
      ],
      "text/plain": [
       "       credit_amount     duration          age\n",
       "count    1000.000000  1000.000000  1000.000000\n",
       "mean        7.788691    20.903000    35.546000\n",
       "std         0.776474    12.058814    11.375469\n",
       "min         5.521461     4.000000    19.000000\n",
       "25%         7.219276    12.000000    27.000000\n",
       "50%         7.749107    18.000000    33.000000\n",
       "75%         8.287088    24.000000    42.000000\n",
       "max         9.821409    72.000000    75.000000"
      ]
     },
     "execution_count": 16,
     "metadata": {},
     "output_type": "execute_result"
    }
   ],
   "source": [
    "german_df['credit_amount'] = np.log(german_df['credit_amount']) # fix credit_amount\n",
    "german_df[['credit_amount','duration','age']].describe()"
   ]
  },
  {
   "cell_type": "markdown",
   "metadata": {},
   "source": [
    "## encode categorical variables"
   ]
  },
  {
   "cell_type": "code",
   "execution_count": 17,
   "metadata": {},
   "outputs": [
    {
     "data": {
      "text/plain": [
       "account_bal             3\n",
       "payment_status          5\n",
       "purpose                10\n",
       "savings_bond_value      5\n",
       "employed_since          5\n",
       "marital                 2\n",
       "guarantor               3\n",
       "most_valuable_asset     4\n",
       "concurrent_credits      3\n",
       "type_of_housing         3\n",
       "job                     3\n",
       "telephon                2\n",
       "foreign                 2\n",
       "sex                     2\n",
       "dtype: int64"
      ]
     },
     "execution_count": 17,
     "metadata": {},
     "output_type": "execute_result"
    }
   ],
   "source": [
    "# Number of unique classes in each object column\n",
    "german_df.select_dtypes('object').apply(pd.Series.nunique, axis = 0)"
   ]
  },
  {
   "cell_type": "markdown",
   "metadata": {},
   "source": [
    "### Implementation: <br>\n",
    "- 2 catergories  label encoding\n",
    "- greater that 2 categories One Hot\n",
    "\n",
    "    "
   ]
  },
  {
   "cell_type": "code",
   "execution_count": 18,
   "metadata": {},
   "outputs": [
    {
     "name": "stdout",
     "output_type": "stream",
     "text": [
      "4 columns were label encoded.\n"
     ]
    }
   ],
   "source": [
    "# sklearn preprocessing for dealing with categorical variables\n",
    "from sklearn.preprocessing import LabelEncoder\n",
    "\n",
    "# Create a label encoder object\n",
    "le = LabelEncoder()\n",
    "le_count = 0\n",
    "\n",
    "# Iterate through the columns\n",
    "for col in german_df:\n",
    "    if german_df[col].dtype == 'object':\n",
    "        # If 2 or fewer unique categories\n",
    "        if len(list(german_df[col].unique())) <= 2:\n",
    "            # Train on the training data\n",
    "            le.fit(german_df[col])\n",
    "            # Transform both training and testing data\n",
    "            german_df[col] = le.transform(german_df[col])\n",
    "            \n",
    "            # Keep track of how many columns were label encoded\n",
    "            le_count += 1\n",
    "            \n",
    "print('%d columns were label encoded.' % le_count)"
   ]
  },
  {
   "cell_type": "code",
   "execution_count": 19,
   "metadata": {},
   "outputs": [],
   "source": [
    "# le.inverse_transform(german_df[\"sex\"])"
   ]
  },
  {
   "cell_type": "code",
   "execution_count": 20,
   "metadata": {},
   "outputs": [],
   "source": [
    "# german_df[\"sex\"]"
   ]
  },
  {
   "cell_type": "code",
   "execution_count": 21,
   "metadata": {},
   "outputs": [
    {
     "name": "stdout",
     "output_type": "stream",
     "text": [
      "Encoded Features shape:  (1000, 56)\n"
     ]
    }
   ],
   "source": [
    "german_df = pd.get_dummies(german_df)\n",
    "\n",
    "print('Encoded Features shape: ', german_df.shape)"
   ]
  },
  {
   "cell_type": "markdown",
   "metadata": {},
   "source": [
    "## Prepare Train-Test"
   ]
  },
  {
   "cell_type": "code",
   "execution_count": 22,
   "metadata": {},
   "outputs": [],
   "source": [
    "from sklearn.model_selection import train_test_split"
   ]
  },
  {
   "cell_type": "code",
   "execution_count": 23,
   "metadata": {},
   "outputs": [
    {
     "data": {
      "text/plain": [
       "((1000, 55), (1000,))"
      ]
     },
     "execution_count": 23,
     "metadata": {},
     "output_type": "execute_result"
    }
   ],
   "source": [
    "x, y = german_df.drop('target', axis=1), german_df['target']\n",
    "x.shape, y.shape"
   ]
  },
  {
   "cell_type": "code",
   "execution_count": 24,
   "metadata": {},
   "outputs": [],
   "source": [
    "X_train, X_test, y_train, y_test= train_test_split(x,y, test_size=.2, random_state=42)"
   ]
  },
  {
   "cell_type": "code",
   "execution_count": 25,
   "metadata": {},
   "outputs": [],
   "source": [
    "## extract sensitive features\n",
    "A = X_test[\"sex\"].map({1:\"Male\",0:\"Female\"})\n",
    "A_str_test = X_test[\"sex\"]\n",
    "A_ = X_train[\"sex\"].map({1:\"Male\",0:\"Female\"})\n",
    "A_str_train = X_train[\"sex\"]"
   ]
  },
  {
   "cell_type": "code",
   "execution_count": 26,
   "metadata": {},
   "outputs": [],
   "source": [
    "import scipy.stats as ss"
   ]
  },
  {
   "cell_type": "code",
   "execution_count": 27,
   "metadata": {},
   "outputs": [],
   "source": [
    "## FAIRNESS\n",
    "\n",
    "## use fair learn\n",
    "\n",
    "#####################################################################\n",
    "# DP: Demographic Parity\n",
    "# EO: equalized odds --> Equal Opportunity is a relaxed version of it\n",
    "# False Positive \n",
    "# True Positive \n",
    "# Error Rate Parity \n",
    "#####################################################################\n",
    "\n"
   ]
  },
  {
   "cell_type": "markdown",
   "metadata": {},
   "source": [
    "# USING FAIRLEARN"
   ]
  },
  {
   "cell_type": "code",
   "execution_count": 28,
   "metadata": {},
   "outputs": [],
   "source": [
    "import pandas as pd\n",
    "from sklearn.datasets import fetch_openml\n",
    "from sklearn.metrics import accuracy_score, precision_score, recall_score\n",
    "from sklearn.tree import DecisionTreeClassifier\n",
    "\n",
    "# Data processing\n",
    "from sklearn.model_selection import train_test_split\n",
    "\n",
    "# Fairlearn algorithms and utils\n",
    "from fairlearn.postprocessing import ThresholdOptimizer\n",
    "from fairlearn.reductions import GridSearch, EqualizedOdds\n",
    "\n",
    "# Metrics\n",
    "from fairlearn.metrics import (\n",
    "    MetricFrame,\n",
    "    selection_rate, demographic_parity_difference, demographic_parity_ratio,\n",
    "    false_positive_rate, false_negative_rate,\n",
    "    false_positive_rate_difference, false_negative_rate_difference,\n",
    "    equalized_odds_difference, count)\n",
    "\n",
    "from sklearn.metrics import balanced_accuracy_score, roc_auc_score,accuracy_score"
   ]
  },
  {
   "cell_type": "markdown",
   "metadata": {},
   "source": [
    "# USE LIGHTGBM\n",
    "\n",
    "### gradient boosting framework -- tree based learning \n",
    "\n",
    "\"While other algorithms trees grow horizontally, LightGBM algorithm grows vertically meaning it grows leaf-wise and other algorithms grow level-wise. LightGBM chooses the leaf with large loss to grow. It can lower down more loss than a level wise algorithm when growing the same leaf.\n",
    "\n",
    "LightGBM is called “Light” because of its computation power and giving results faster. It takes less memory to run and is able to deal with large amounts of data.\n",
    "\"\n",
    "https://www.analyticssteps.com/blogs/what-light-gbm-algorithm-how-use-it\n",
    "\n"
   ]
  },
  {
   "cell_type": "code",
   "execution_count": 29,
   "metadata": {},
   "outputs": [],
   "source": [
    "# Models\n",
    "import lightgbm as lgb\n",
    "from sklearn.calibration import CalibratedClassifierCV\n",
    "\n",
    "lgb_params = {\n",
    "    'objective' : 'binary',\n",
    "    'metric' : 'cross_entropy', \n",
    "    'learning_rate': 0.1,\n",
    "    'num_leaves' : 10,\n",
    "    'max_depth' : 3\n",
    "}\n",
    "\n",
    "model = lgb.LGBMClassifier(**lgb_params)"
   ]
  },
  {
   "cell_type": "code",
   "execution_count": 30,
   "metadata": {},
   "outputs": [
    {
     "data": {
      "text/plain": [
       "LGBMClassifier(max_depth=3, metric='auc', num_leaves=10, objective='binary')"
      ]
     },
     "execution_count": 30,
     "metadata": {},
     "output_type": "execute_result"
    }
   ],
   "source": [
    "train_data = X_train\n",
    "train_labels = y_train\n",
    "test_data = X_test\n",
    "test_labels = y_test\n",
    "model.fit(train_data, train_labels)"
   ]
  },
  {
   "cell_type": "code",
   "execution_count": 31,
   "metadata": {},
   "outputs": [],
   "source": [
    "# Scores on test set\n",
    "test_scores = model.predict_proba(test_data)[:, 1]\n",
    "test_pred = model.predict(test_data)"
   ]
  },
  {
   "cell_type": "code",
   "execution_count": 32,
   "metadata": {},
   "outputs": [
    {
     "data": {
      "text/plain": [
       "0.9446774397078364"
      ]
     },
     "execution_count": 32,
     "metadata": {},
     "output_type": "execute_result"
    }
   ],
   "source": [
    "# Train AUC\n",
    "roc_auc_score(train_labels, model.predict_proba(train_data)[:, 1])"
   ]
  },
  {
   "cell_type": "code",
   "execution_count": 33,
   "metadata": {},
   "outputs": [
    {
     "data": {
      "text/plain": [
       "0.805"
      ]
     },
     "execution_count": 33,
     "metadata": {},
     "output_type": "execute_result"
    }
   ],
   "source": [
    "# ACCURACY\n",
    "accuracy_score(test_labels, test_pred)"
   ]
  },
  {
   "cell_type": "code",
   "execution_count": 34,
   "metadata": {},
   "outputs": [],
   "source": [
    "# Predictions (0 or 1) on test set\n",
    "test_preds = (test_scores >= np.mean(train_labels)) * 1\n"
   ]
  },
  {
   "cell_type": "code",
   "execution_count": 35,
   "metadata": {
    "scrolled": true
   },
   "outputs": [
    {
     "data": {
      "image/png": "[encoded data removed]",
      "text/plain": [
       "<Figure size 360x360 with 1 Axes>"
      ]
     },
     "metadata": {
      "needs_background": "light"
     },
     "output_type": "display_data"
    }
   ],
   "source": [
    "# LightGBM feature importance \n",
    "lgb.plot_importance(model, figsize = (5,5), height=0.3, title=\"Features importance (LightGBM)\", importance_type=\"gain\", max_num_features=5) \n",
    "plt.show()\n"
   ]
  },
  {
   "cell_type": "code",
   "execution_count": 36,
   "metadata": {},
   "outputs": [
    {
     "data": {
      "text/html": [
       "<div>\n",
       "<style scoped>\n",
       "    .dataframe tbody tr th:only-of-type {\n",
       "        vertical-align: middle;\n",
       "    }\n",
       "\n",
       "    .dataframe tbody tr th {\n",
       "        vertical-align: top;\n",
       "    }\n",
       "\n",
       "    .dataframe thead th {\n",
       "        text-align: right;\n",
       "    }\n",
       "</style>\n",
       "<table border=\"1\" class=\"dataframe\">\n",
       "  <thead>\n",
       "    <tr style=\"text-align: right;\">\n",
       "      <th></th>\n",
       "      <th>FPR</th>\n",
       "      <th>FNR</th>\n",
       "    </tr>\n",
       "    <tr>\n",
       "      <th>sex</th>\n",
       "      <th></th>\n",
       "      <th></th>\n",
       "    </tr>\n",
       "  </thead>\n",
       "  <tbody>\n",
       "    <tr>\n",
       "      <th>0</th>\n",
       "      <td>0.25641</td>\n",
       "      <td>0.352941</td>\n",
       "    </tr>\n",
       "    <tr>\n",
       "      <th>1</th>\n",
       "      <td>0.254902</td>\n",
       "      <td>0.238095</td>\n",
       "    </tr>\n",
       "  </tbody>\n",
       "</table>\n",
       "</div>"
      ],
      "text/plain": [
       "          FPR       FNR\n",
       "sex                    \n",
       "0     0.25641  0.352941\n",
       "1    0.254902  0.238095"
      ]
     },
     "execution_count": 36,
     "metadata": {},
     "output_type": "execute_result"
    }
   ],
   "source": [
    "# USE FAIRLEARN now\n",
    "# use MetricFrame for analysis \n",
    "##     selection_rate, demographic_parity_difference, demographic_parity_ratio,\n",
    "##    false_positive_rate, false_negative_rate,\n",
    "##    false_positive_rate_difference, false_negative_rate_difference,\n",
    "##    equalized_odds_difference, count\n",
    "\n",
    "\n",
    "\n",
    "mf = MetricFrame({\n",
    "    'FPR': false_positive_rate,\n",
    "    'FNR': false_negative_rate},\n",
    "    test_labels, test_preds, sensitive_features=A_str_test)\n",
    "\n",
    "mf.by_group"
   ]
  },
  {
   "cell_type": "code",
   "execution_count": 37,
   "metadata": {},
   "outputs": [],
   "source": [
    "# Helper functions\n",
    "def get_metrics_df(models_dict, y_true, group):\n",
    "    metrics_dict = {\n",
    "#         \"Overall selection rate\": (\n",
    "#             lambda x: selection_rate(y_true, x), True),\n",
    "        \"Demographic parity difference\": (\n",
    "            lambda x: demographic_parity_difference(y_true, x, sensitive_features=group), True),\n",
    "#         \"Demographic parity ratio\": (\n",
    "#             lambda x: demographic_parity_ratio(y_true, x, sensitive_features=group), True),\n",
    "#         \"------\": (lambda x: \"\", True),\n",
    "#         \"Overall balanced error rate\": (\n",
    "#             lambda x: 1-balanced_accuracy_score(y_true, x), True),\n",
    "#         \"Balanced error rate difference\": (\n",
    "#             lambda x: MetricFrame(metrics=balanced_accuracy_score, y_true=y_true, y_pred=x, sensitive_features=group).difference(method='between_groups'), True),\n",
    "#         \" ------\": (lambda x: \"\", True),\n",
    "#         \"False positive rate difference\": (\n",
    "#             lambda x: false_positive_rate_difference(y_true, x, sensitive_features=group), True),\n",
    "#         \"False negative rate difference\": (\n",
    "#             lambda x: false_negative_rate_difference(y_true, x, sensitive_features=group), True),\n",
    "        \"Equalized odds difference\": (\n",
    "            lambda x: equalized_odds_difference(y_true, x, sensitive_features=group), True),\n",
    "        \"  ------\": (lambda x: \"\", True),\n",
    "        \"Accuracy\": (\n",
    "             lambda x: accuracy_score(y_true, x), True),\n",
    "#         \"Overall AUC\": (\n",
    "#             lambda x: roc_auc_score(y_true, x), False),\n",
    "#         \"AUC difference\": (\n",
    "#             lambda x: MetricFrame(metrics=roc_auc_score, y_true=y_true, y_pred=x, sensitive_features=group).difference(method='between_groups'), False),\n",
    "    }\n",
    "    df_dict = {}\n",
    "    for metric_name, (metric_func, use_preds) in metrics_dict.items():\n",
    "        df_dict[metric_name] = [metric_func(preds) if use_preds else metric_func(scores) \n",
    "                                for model_name, (preds, scores) in models_dict.items()]\n",
    "    return pd.DataFrame.from_dict(df_dict, orient=\"index\", columns=models_dict.keys())"
   ]
  },
  {
   "cell_type": "code",
   "execution_count": 38,
   "metadata": {},
   "outputs": [
    {
     "data": {
      "text/html": [
       "<div>\n",
       "<style scoped>\n",
       "    .dataframe tbody tr th:only-of-type {\n",
       "        vertical-align: middle;\n",
       "    }\n",
       "\n",
       "    .dataframe tbody tr th {\n",
       "        vertical-align: top;\n",
       "    }\n",
       "\n",
       "    .dataframe thead th {\n",
       "        text-align: right;\n",
       "    }\n",
       "</style>\n",
       "<table border=\"1\" class=\"dataframe\">\n",
       "  <thead>\n",
       "    <tr style=\"text-align: right;\">\n",
       "      <th></th>\n",
       "      <th>Unmitigated</th>\n",
       "    </tr>\n",
       "  </thead>\n",
       "  <tbody>\n",
       "    <tr>\n",
       "      <th>Demographic parity difference</th>\n",
       "      <td>0.0277778</td>\n",
       "    </tr>\n",
       "    <tr>\n",
       "      <th>Equalized odds difference</th>\n",
       "      <td>0.114846</td>\n",
       "    </tr>\n",
       "    <tr>\n",
       "      <th>------</th>\n",
       "      <td></td>\n",
       "    </tr>\n",
       "    <tr>\n",
       "      <th>Accuracy</th>\n",
       "      <td>0.74</td>\n",
       "    </tr>\n",
       "  </tbody>\n",
       "</table>\n",
       "</div>"
      ],
      "text/plain": [
       "                              Unmitigated\n",
       "Demographic parity difference   0.0277778\n",
       "Equalized odds difference        0.114846\n",
       "  ------                                 \n",
       "Accuracy                             0.74"
      ]
     },
     "execution_count": 38,
     "metadata": {},
     "output_type": "execute_result"
    }
   ],
   "source": [
    "models_dict = {\"Unmitigated\": (test_preds, test_scores)}\n",
    "get_metrics_df(models_dict, test_labels, A_str_test)"
   ]
  },
  {
   "cell_type": "markdown",
   "metadata": {},
   "source": [
    "## MITIGATION"
   ]
  },
  {
   "cell_type": "code",
   "execution_count": 39,
   "metadata": {},
   "outputs": [],
   "source": [
    "# from fairlearn.reductions import EqualizedOdds, TruePositiveRateParity,ErrorRateParity,DemographicParity\n",
    "# dp = DemographicParity(difference_bound=0.01)\n",
    "# tprp = TruePositiveRateParity(difference_bound=0.01)\n",
    "# eo = EqualizedOdds(difference_bound=0.01)\n",
    "# erp = ErrorRateParity(difference_bound=0.01)\n",
    "# # demographic parity\n",
    "# dp.load_data(test_data, test_labels, sensitive_features=A_str_test)\n",
    "# print(\"------------------------------------------\")\n",
    "# print(\"           Demographic Parity\")\n",
    "# print(dp.gamma(lambda X: test_preds))\n",
    "\n",
    "# # Equalized Odds\n",
    "# eo.load_data(test_data, test_labels, sensitive_features=A_str_test)\n",
    "# print(\"------------------------------------------\")\n",
    "# print(\"           Equalized Odds\")\n",
    "# print(eo.gamma(lambda X: test_preds))\n",
    "\n",
    "# # ErrorRateParity\n",
    "# erp.load_data(test_data, test_labels, sensitive_features=A_str_test)\n",
    "# print(\"------------------------------------------\")\n",
    "# print(\"           Error Rate Parity\")\n",
    "# print(erp.gamma(lambda X: test_preds))\n",
    "\n"
   ]
  },
  {
   "cell_type": "markdown",
   "metadata": {},
   "source": [
    "## Threshold Optimizer w Demographic Parity "
   ]
  },
  {
   "cell_type": "code",
   "execution_count": 40,
   "metadata": {},
   "outputs": [
    {
     "data": {
      "text/html": [
       "<div>\n",
       "<style scoped>\n",
       "    .dataframe tbody tr th:only-of-type {\n",
       "        vertical-align: middle;\n",
       "    }\n",
       "\n",
       "    .dataframe tbody tr th {\n",
       "        vertical-align: top;\n",
       "    }\n",
       "\n",
       "    .dataframe thead th {\n",
       "        text-align: right;\n",
       "    }\n",
       "</style>\n",
       "<table border=\"1\" class=\"dataframe\">\n",
       "  <thead>\n",
       "    <tr style=\"text-align: right;\">\n",
       "      <th></th>\n",
       "      <th>Unmitigated</th>\n",
       "      <th>ThresholdOptimizer</th>\n",
       "    </tr>\n",
       "  </thead>\n",
       "  <tbody>\n",
       "    <tr>\n",
       "      <th>Demographic parity difference</th>\n",
       "      <td>0.0277778</td>\n",
       "      <td>0.0436508</td>\n",
       "    </tr>\n",
       "    <tr>\n",
       "      <th>Equalized odds difference</th>\n",
       "      <td>0.114846</td>\n",
       "      <td>0.0770308</td>\n",
       "    </tr>\n",
       "    <tr>\n",
       "      <th>------</th>\n",
       "      <td></td>\n",
       "      <td></td>\n",
       "    </tr>\n",
       "    <tr>\n",
       "      <th>Accuracy</th>\n",
       "      <td>0.74</td>\n",
       "      <td>0.805</td>\n",
       "    </tr>\n",
       "  </tbody>\n",
       "</table>\n",
       "</div>"
      ],
      "text/plain": [
       "                              Unmitigated ThresholdOptimizer\n",
       "Demographic parity difference   0.0277778          0.0436508\n",
       "Equalized odds difference        0.114846          0.0770308\n",
       "  ------                                                    \n",
       "Accuracy                             0.74              0.805"
      ]
     },
     "execution_count": 40,
     "metadata": {},
     "output_type": "execute_result"
    }
   ],
   "source": [
    "import pprint\n",
    "\n",
    "postprocess_est = ThresholdOptimizer(\n",
    "    estimator = model,\n",
    "    constraints=\"demographic_parity\",\n",
    "    prefit=True)\n",
    "\n",
    "balanced_idx1 = train_data[train_labels==1].index\n",
    "pp_train_idx = balanced_idx1.union(train_labels[train_labels==0].sample(n=balanced_idx1.size, random_state=1234).index)\n",
    "df_train_balanced = train_data.loc[pp_train_idx, :]\n",
    "Y_train_balanced = train_labels.loc[pp_train_idx]\n",
    "A_train_balanced = A_.loc[pp_train_idx]\n",
    "\n",
    "\n",
    "postprocess_est.fit(df_train_balanced, Y_train_balanced, sensitive_features=A_train_balanced)\n",
    "\n",
    "postprocess_preds = postprocess_est.predict(test_data, sensitive_features= A)\n",
    "\n",
    "\n",
    "models_dict = {\"Unmitigated\": (test_preds, test_scores),\n",
    "              \"ThresholdOptimizer\": (postprocess_preds, postprocess_preds)}\n",
    "(get_metrics_df(models_dict, test_labels, A_str_test))"
   ]
  },
  {
   "cell_type": "code",
   "execution_count": 41,
   "metadata": {},
   "outputs": [],
   "source": [
    "# blah = (get_metrics_df(models_dict, test_labels, A_str_test))\n",
    "# blah.to_csv('/Users/abhishek/Desktop/ADULT_CSV/DP/all_feat.csv', \n",
    "#             index=True,\n",
    "#             header = ['Unmit:all feat(DP)','ThrOpt:all feat(DP)'])"
   ]
  },
  {
   "cell_type": "markdown",
   "metadata": {},
   "source": [
    "## Threshold Optimizer w Equalized Odds"
   ]
  },
  {
   "cell_type": "code",
   "execution_count": 42,
   "metadata": {},
   "outputs": [
    {
     "data": {
      "text/html": [
       "<div>\n",
       "<style scoped>\n",
       "    .dataframe tbody tr th:only-of-type {\n",
       "        vertical-align: middle;\n",
       "    }\n",
       "\n",
       "    .dataframe tbody tr th {\n",
       "        vertical-align: top;\n",
       "    }\n",
       "\n",
       "    .dataframe thead th {\n",
       "        text-align: right;\n",
       "    }\n",
       "</style>\n",
       "<table border=\"1\" class=\"dataframe\">\n",
       "  <thead>\n",
       "    <tr style=\"text-align: right;\">\n",
       "      <th></th>\n",
       "      <th>Unmitigated</th>\n",
       "      <th>ThresholdOptimizer</th>\n",
       "    </tr>\n",
       "  </thead>\n",
       "  <tbody>\n",
       "    <tr>\n",
       "      <th>Demographic parity difference</th>\n",
       "      <td>0.0277778</td>\n",
       "      <td>0.0615079</td>\n",
       "    </tr>\n",
       "    <tr>\n",
       "      <th>Equalized odds difference</th>\n",
       "      <td>0.114846</td>\n",
       "      <td>0.135854</td>\n",
       "    </tr>\n",
       "    <tr>\n",
       "      <th>------</th>\n",
       "      <td></td>\n",
       "      <td></td>\n",
       "    </tr>\n",
       "    <tr>\n",
       "      <th>Accuracy</th>\n",
       "      <td>0.74</td>\n",
       "      <td>0.8</td>\n",
       "    </tr>\n",
       "  </tbody>\n",
       "</table>\n",
       "</div>"
      ],
      "text/plain": [
       "                              Unmitigated ThresholdOptimizer\n",
       "Demographic parity difference   0.0277778          0.0615079\n",
       "Equalized odds difference        0.114846           0.135854\n",
       "  ------                                                    \n",
       "Accuracy                             0.74                0.8"
      ]
     },
     "execution_count": 42,
     "metadata": {},
     "output_type": "execute_result"
    }
   ],
   "source": [
    "import pprint\n",
    "\n",
    "postprocess_est = ThresholdOptimizer(\n",
    "    estimator = model,\n",
    "    constraints=\"equalized_odds\",\n",
    "    prefit=True)\n",
    "\n",
    "balanced_idx1 = train_data[train_labels==1].index\n",
    "pp_train_idx = balanced_idx1.union(train_labels[train_labels==0].sample(n=balanced_idx1.size, random_state=1234).index)\n",
    "df_train_balanced = train_data.loc[pp_train_idx, :]\n",
    "Y_train_balanced = train_labels.loc[pp_train_idx]\n",
    "A_train_balanced = A_.loc[pp_train_idx]\n",
    "\n",
    "\n",
    "postprocess_est.fit(df_train_balanced, Y_train_balanced, sensitive_features=A_train_balanced)\n",
    "\n",
    "postprocess_preds = postprocess_est.predict(test_data, sensitive_features= A)\n",
    "\n",
    "\n",
    "models_dict = {\"Unmitigated\": (test_preds, test_scores),\n",
    "              \"ThresholdOptimizer\": (postprocess_preds, postprocess_preds)}\n",
    "(get_metrics_df(models_dict, test_labels, A_str_test))"
   ]
  },
  {
   "cell_type": "markdown",
   "metadata": {},
   "source": [
    "## Exponentiated Gradient w Demographic Parity"
   ]
  },
  {
   "cell_type": "code",
   "execution_count": 43,
   "metadata": {},
   "outputs": [
    {
     "data": {
      "text/html": [
       "<div>\n",
       "<style scoped>\n",
       "    .dataframe tbody tr th:only-of-type {\n",
       "        vertical-align: middle;\n",
       "    }\n",
       "\n",
       "    .dataframe tbody tr th {\n",
       "        vertical-align: top;\n",
       "    }\n",
       "\n",
       "    .dataframe thead th {\n",
       "        text-align: right;\n",
       "    }\n",
       "</style>\n",
       "<table border=\"1\" class=\"dataframe\">\n",
       "  <thead>\n",
       "    <tr style=\"text-align: right;\">\n",
       "      <th></th>\n",
       "      <th>Unmitigated</th>\n",
       "      <th>ExponentiatedGrad</th>\n",
       "    </tr>\n",
       "  </thead>\n",
       "  <tbody>\n",
       "    <tr>\n",
       "      <th>Demographic parity difference</th>\n",
       "      <td>0.0277778</td>\n",
       "      <td>0.0545635</td>\n",
       "    </tr>\n",
       "    <tr>\n",
       "      <th>Equalized odds difference</th>\n",
       "      <td>0.114846</td>\n",
       "      <td>0.112045</td>\n",
       "    </tr>\n",
       "    <tr>\n",
       "      <th>------</th>\n",
       "      <td></td>\n",
       "      <td></td>\n",
       "    </tr>\n",
       "    <tr>\n",
       "      <th>Accuracy</th>\n",
       "      <td>0.74</td>\n",
       "      <td>0.795</td>\n",
       "    </tr>\n",
       "  </tbody>\n",
       "</table>\n",
       "</div>"
      ],
      "text/plain": [
       "                              Unmitigated ExponentiatedGrad\n",
       "Demographic parity difference   0.0277778         0.0545635\n",
       "Equalized odds difference        0.114846          0.112045\n",
       "  ------                                                   \n",
       "Accuracy                             0.74             0.795"
      ]
     },
     "execution_count": 43,
     "metadata": {},
     "output_type": "execute_result"
    }
   ],
   "source": [
    "from fairlearn.reductions import ExponentiatedGradient,EqualizedOdds,DemographicParity\n",
    "from xgboost import XGBClassifier\n",
    "from sklearn.ensemble import RandomForestClassifier\n",
    "clf = RandomForestClassifier(n_estimators=10)\n",
    "xgc = XGBClassifier(verbosity=0)\n",
    "\n",
    "eg = ExponentiatedGradient(estimator= model, constraints= DemographicParity(),max_iter=2)\n",
    "eg.fit(train_data,train_labels, sensitive_features=A_)\n",
    "eg_test_preds = eg.predict(test_data)\n",
    "\n",
    "models_dict = {\"Unmitigated\": (test_preds, test_scores),\n",
    "              \"ExponentiatedGrad\": (eg_test_preds,eg_test_preds)}\n",
    "(get_metrics_df(models_dict, test_labels, A_str_test))"
   ]
  },
  {
   "cell_type": "markdown",
   "metadata": {},
   "source": [
    "## Exponentiated Gradient w equalized odds"
   ]
  },
  {
   "cell_type": "code",
   "execution_count": 44,
   "metadata": {},
   "outputs": [
    {
     "data": {
      "text/html": [
       "<div>\n",
       "<style scoped>\n",
       "    .dataframe tbody tr th:only-of-type {\n",
       "        vertical-align: middle;\n",
       "    }\n",
       "\n",
       "    .dataframe tbody tr th {\n",
       "        vertical-align: top;\n",
       "    }\n",
       "\n",
       "    .dataframe thead th {\n",
       "        text-align: right;\n",
       "    }\n",
       "</style>\n",
       "<table border=\"1\" class=\"dataframe\">\n",
       "  <thead>\n",
       "    <tr style=\"text-align: right;\">\n",
       "      <th></th>\n",
       "      <th>Unmitigated</th>\n",
       "      <th>ExponentiatedGrad</th>\n",
       "    </tr>\n",
       "  </thead>\n",
       "  <tbody>\n",
       "    <tr>\n",
       "      <th>Demographic parity difference</th>\n",
       "      <td>0.0277778</td>\n",
       "      <td>0.0436508</td>\n",
       "    </tr>\n",
       "    <tr>\n",
       "      <th>Equalized odds difference</th>\n",
       "      <td>0.114846</td>\n",
       "      <td>0.0770308</td>\n",
       "    </tr>\n",
       "    <tr>\n",
       "      <th>------</th>\n",
       "      <td></td>\n",
       "      <td></td>\n",
       "    </tr>\n",
       "    <tr>\n",
       "      <th>Accuracy</th>\n",
       "      <td>0.74</td>\n",
       "      <td>0.805</td>\n",
       "    </tr>\n",
       "  </tbody>\n",
       "</table>\n",
       "</div>"
      ],
      "text/plain": [
       "                              Unmitigated ExponentiatedGrad\n",
       "Demographic parity difference   0.0277778         0.0436508\n",
       "Equalized odds difference        0.114846         0.0770308\n",
       "  ------                                                   \n",
       "Accuracy                             0.74             0.805"
      ]
     },
     "execution_count": 44,
     "metadata": {},
     "output_type": "execute_result"
    }
   ],
   "source": [
    "from fairlearn.reductions import ExponentiatedGradient,EqualizedOdds,DemographicParity\n",
    "from xgboost import XGBClassifier\n",
    "from sklearn.ensemble import RandomForestClassifier\n",
    "clf = RandomForestClassifier(n_estimators=10)\n",
    "xgc = XGBClassifier(verbosity=0)\n",
    "\n",
    "eg = ExponentiatedGradient(estimator= model, constraints= EqualizedOdds(),max_iter=2)\n",
    "eg.fit(train_data,train_labels, sensitive_features=A_)\n",
    "eg_test_preds = eg.predict(test_data)\n",
    "\n",
    "models_dict = {\"Unmitigated\": (test_preds, test_scores),\n",
    "              \"ExponentiatedGrad\": (eg_test_preds,eg_test_preds)}\n",
    "(get_metrics_df(models_dict, test_labels, A_str_test))"
   ]
  },
  {
   "cell_type": "markdown",
   "metadata": {},
   "source": [
    "## Useful functions"
   ]
  },
  {
   "cell_type": "code",
   "execution_count": 45,
   "metadata": {},
   "outputs": [],
   "source": [
    "def score_range(p, q, df):\n",
    "    \"\"\"Returns number of success and observations for given bucket.\"\"\"\n",
    "    gp = df[df['score'] > p]\n",
    "    lq = gp[gp['score'] <= q]\n",
    "    return [sum(lq['target']), len(lq['target'])]\n",
    "\n",
    "def get_frequencies(marginals, num_buckets=10):\n",
    "    \"\"\"Returns list of lists. The first list is successes \n",
    "    for all buckets, the second one is total counts.\"\"\"\n",
    "    ts = np.linspace(0, 1, num_buckets+1)\n",
    "    frequencies = [[],[]]\n",
    "    for i in range(num_buckets):\n",
    "        b = score_range(ts[i], ts[i+1], marginals)\n",
    "        frequencies[0].append(b[0])\n",
    "        frequencies[1].append(b[1])\n",
    "    return frequencies\n",
    "\n",
    "def plot_confidence(plt, xs, n_succs, n_obss, label, linestyle, color, confidence=0.95):\n",
    "    \"\"\"Plot a graph with confidence intervals where\n",
    "       each x corresponds to a binomial random variable in which n_obs observations led to n_succ successes\"\"\"\n",
    "    n_succs, n_obss = np.array(n_succs), np.array(n_obss)\n",
    "    conf_lbs, conf_ubs = proportion.proportion_confint(n_succs, n_obss, alpha=1-confidence)\n",
    "    pylab.fill_between(xs, conf_ubs, conf_lbs, alpha=.2, color=color)\n",
    "    pylab.plot(xs, n_succs / n_obss, '.-', label=label, linestyle=linestyle, color=color)"
   ]
  },
  {
   "cell_type": "code",
   "execution_count": 46,
   "metadata": {},
   "outputs": [
    {
     "name": "stdout",
     "output_type": "stream",
     "text": [
      "Index(['account_bal', 'duration', 'payment_status', 'purpose', 'credit_amount',\n",
      "       'savings_bond_value', 'employed_since', 'intallment_rate', 'marital',\n",
      "       'guarantor', 'residence_since', 'most_valuable_asset', 'age',\n",
      "       'concurrent_credits', 'type_of_housing', 'number_of_existcr', 'job',\n",
      "       'number_of_dependents', 'telephon', 'foreign', 'target', 'sex'],\n",
      "      dtype='object')\n"
     ]
    }
   ],
   "source": [
    "import pprint as pp\n",
    "pp.pprint(te)"
   ]
  },
  {
   "cell_type": "code",
   "execution_count": null,
   "metadata": {},
   "outputs": [],
   "source": []
  }
 ],
 "metadata": {
  "kernelspec": {
   "display_name": "Python 3",
   "language": "python",
   "name": "python3"
  },
  "language_info": {
   "codemirror_mode": {
    "name": "ipython",
    "version": 3
   },
   "file_extension": ".py",
   "mimetype": "text/x-python",
   "name": "python",
   "nbconvert_exporter": "python",
   "pygments_lexer": "ipython3",
   "version": "3.8.5"
  }
 },
 "nbformat": 4,
 "nbformat_minor": 4
}
